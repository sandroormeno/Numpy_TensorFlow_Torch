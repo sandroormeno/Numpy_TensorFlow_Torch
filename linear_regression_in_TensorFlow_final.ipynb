{
  "nbformat": 4,
  "nbformat_minor": 0,
  "metadata": {
    "colab": {
      "name": "linear regression in TensorFlow - final.ipynb",
      "provenance": [],
      "collapsed_sections": [],
      "authorship_tag": "ABX9TyNLUVpjmrRA8BcZa2G3fU7A"
    },
    "kernelspec": {
      "name": "python3",
      "display_name": "Python 3"
    }
  },
  "cells": [
    {
      "cell_type": "code",
      "metadata": {
        "id": "q9ZQo3eHzBf2",
        "colab_type": "code",
        "colab": {
          "base_uri": "https://localhost:8080/",
          "height": 34
        },
        "outputId": "9aee2d8f-121c-414a-8794-e7886e5154f2"
      },
      "source": [
        "import tensorflow as tf \n",
        "tf.__version__"
      ],
      "execution_count": null,
      "outputs": [
        {
          "output_type": "execute_result",
          "data": {
            "text/plain": [
              "'2.2.0'"
            ]
          },
          "metadata": {
            "tags": []
          },
          "execution_count": 1
        }
      ]
    },
    {
      "cell_type": "code",
      "metadata": {
        "id": "bMvn3g958ypy",
        "colab_type": "code",
        "colab": {}
      },
      "source": [
        "n_epochs = 30\n",
        "learning_rate = 0.01\n",
        "\n",
        "X = tf.constant([1, 2, 3, 4, 5, 6 ], dtype=tf.float32)\n",
        "y = tf.constant([1.5,3,4.5,6,7.5,9], dtype=tf.float32)\n",
        "\n",
        "test = 10"
      ],
      "execution_count": null,
      "outputs": []
    },
    {
      "cell_type": "code",
      "metadata": {
        "id": "rI81yD7K2Yn0",
        "colab_type": "code",
        "colab": {
          "base_uri": "https://localhost:8080/",
          "height": 221
        },
        "outputId": "8f8ddb42-a17e-4438-ec93-ac277e49d24f"
      },
      "source": [
        "w  = tf.Variable([0.], dtype=tf.float32)\n",
        "def forward(input):\n",
        "  return input*w\n",
        "\n",
        "def criterion(out, out_predit):\n",
        "  error = out_predit - out\n",
        "  return tf.reduce_mean(tf.square(error))\n",
        "\n",
        "for epoch in range(n_epochs):\n",
        "  with tf.GradientTape() as tape:\n",
        "    y_pred = forward(X) \n",
        "    loss =  criterion(y, y_pred)     \n",
        "  grads = tape.gradient(loss, w )\n",
        "\n",
        "  # el resultado de la derivada es multipicado al Lr y es actualizado en w (-=)\n",
        "  w.assign(w  - learning_rate * grads)  \n",
        "  if (epoch+1) % 3 == 0:\n",
        "    print(f'Epoch: {epoch+1}/{n_epochs} : w = {w[0].numpy():.3f} , loss =  {loss:.8f}')\n",
        "\n",
        "print(f'\\nPrediction after training: f({test}) = {forward(test)[0].numpy():.2f}')"
      ],
      "execution_count": 18,
      "outputs": [
        {
          "output_type": "stream",
          "text": [
            "Epoch: 3/30 : w = 0.993 , loss =  8.03845882\n",
            "Epoch: 6/30 : w = 1.329 , loss =  0.91901594\n",
            "Epoch: 9/30 : w = 1.442 , loss =  0.10506856\n",
            "Epoch: 12/30 : w = 1.480 , loss =  0.01201214\n",
            "Epoch: 15/30 : w = 1.493 , loss =  0.00137330\n",
            "Epoch: 18/30 : w = 1.498 , loss =  0.00015700\n",
            "Epoch: 21/30 : w = 1.499 , loss =  0.00001795\n",
            "Epoch: 24/30 : w = 1.500 , loss =  0.00000205\n",
            "Epoch: 27/30 : w = 1.500 , loss =  0.00000023\n",
            "Epoch: 30/30 : w = 1.500 , loss =  0.00000003\n",
            "\n",
            "Prediction after training: f(10) = 15.00\n"
          ],
          "name": "stdout"
        }
      ]
    },
    {
      "cell_type": "code",
      "metadata": {
        "id": "WQvFNoDh0QhN",
        "colab_type": "code",
        "colab": {}
      },
      "source": [
        ""
      ],
      "execution_count": null,
      "outputs": []
    }
  ]
}