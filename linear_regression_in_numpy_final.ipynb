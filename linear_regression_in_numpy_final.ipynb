{
  "nbformat": 4,
  "nbformat_minor": 0,
  "metadata": {
    "colab": {
      "name": "linear regression in numpy - final.ipynb",
      "provenance": [],
      "collapsed_sections": [],
      "authorship_tag": "ABX9TyMlMQhAxcdmayVUWHudNerv"
    },
    "kernelspec": {
      "name": "python3",
      "display_name": "Python 3"
    }
  },
  "cells": [
    {
      "cell_type": "code",
      "metadata": {
        "id": "BxEA1LUrCmk1",
        "colab_type": "code",
        "colab": {
          "base_uri": "https://localhost:8080/",
          "height": 34
        },
        "outputId": "565e684c-bd15-44ba-e360-4319cd966571"
      },
      "source": [
        "import numpy as np\n",
        "np.__version__"
      ],
      "execution_count": 6,
      "outputs": [
        {
          "output_type": "execute_result",
          "data": {
            "text/plain": [
              "'1.18.5'"
            ]
          },
          "metadata": {
            "tags": []
          },
          "execution_count": 6
        }
      ]
    },
    {
      "cell_type": "code",
      "metadata": {
        "id": "nbS6-gJwDjkL",
        "colab_type": "code",
        "colab": {}
      },
      "source": [
        "# f = w *x\n",
        "\n",
        "X = np.array([1, 2, 3, 4, 5, 6],dtype =np.float32)\n",
        "Y = np.array([1.5,3,4.5,6,7.5,9],dtype =np.float32)\n",
        "\n",
        "test = 10"
      ],
      "execution_count": 7,
      "outputs": []
    },
    {
      "cell_type": "code",
      "metadata": {
        "id": "X7pUVaMHDmn-",
        "colab_type": "code",
        "colab": {}
      },
      "source": [
        "# model prediction\n",
        "def forward(x):\n",
        "    return w * x\n",
        "\n",
        "# loss = MSE\n",
        "def loss(y, y_predicted):\n",
        "    return ((y_predicted - y)**2).mean()\n",
        "    \n",
        "# gradient\n",
        "# MSE = 1/N * (w*y - y)**2\n",
        "# dj/dw =  1/N 2x *(w*y - y)\n",
        "\n",
        "def gradient(x, y, y_predicted):\n",
        "    return np.dot(2*x, y_predicted -y).mean()"
      ],
      "execution_count": 17,
      "outputs": []
    },
    {
      "cell_type": "code",
      "metadata": {
        "id": "wdKTXf2TDtvu",
        "colab_type": "code",
        "colab": {
          "base_uri": "https://localhost:8080/",
          "height": 221
        },
        "outputId": "0aff2bfb-caaa-4507-b6eb-1b090cbe2eca"
      },
      "source": [
        "# training\n",
        "learning_rate = 0.01\n",
        "n_iters = 50\n",
        "w = 0.6\n",
        "\n",
        "for epoch in range(n_iters):\n",
        "    y_pred = forward(X)\n",
        "    \n",
        "    # loss\n",
        "    l = loss(Y, y_pred)\n",
        "    \n",
        "    # gradients\n",
        "    dw = gradient(X, Y, y_pred)\n",
        "    \n",
        "    # update weights\n",
        "    w -= learning_rate * dw\n",
        "    \n",
        "    if (epoch+1) % 5== 0:\n",
        "        print(f'Epoch {epoch+1}/{n_iters} : w = {w:.3f} , Loss = {l:.8f}')\n",
        "\n",
        "print(f'\\nPrediction after training : f({test}) = {forward(test):.2f}')   "
      ],
      "execution_count": 18,
      "outputs": [
        {
          "output_type": "stream",
          "text": [
            "Epoch 5/50 : w = 1.834 , Loss = 2.51122856\n",
            "Epoch 10/50 : w = 1.376 , Loss = 0.34516475\n",
            "Epoch 15/50 : w = 1.546 , Loss = 0.04744200\n",
            "Epoch 20/50 : w = 1.483 , Loss = 0.00652093\n",
            "Epoch 25/50 : w = 1.506 , Loss = 0.00089627\n",
            "Epoch 30/50 : w = 1.498 , Loss = 0.00012318\n",
            "Epoch 35/50 : w = 1.501 , Loss = 0.00001693\n",
            "Epoch 40/50 : w = 1.500 , Loss = 0.00000233\n",
            "Epoch 45/50 : w = 1.500 , Loss = 0.00000032\n",
            "Epoch 50/50 : w = 1.500 , Loss = 0.00000004\n",
            "\n",
            "Prediction after training : f(10) = 15.00\n"
          ],
          "name": "stdout"
        }
      ]
    }
  ]
}