{
  "nbformat": 4,
  "nbformat_minor": 0,
  "metadata": {
    "colab": {
      "name": "linear_regression_in_TensorFlow_final old school.ipynb",
      "provenance": [],
      "collapsed_sections": [],
      "authorship_tag": "ABX9TyMRv/kBYDRvVkPg4ns+MhVy"
    },
    "kernelspec": {
      "name": "python3",
      "display_name": "Python 3"
    }
  },
  "cells": [
    {
      "cell_type": "code",
      "metadata": {
        "id": "9w79O5cxMUIf",
        "colab_type": "code",
        "colab": {}
      },
      "source": [
        "import tensorflow as tf\n",
        "import numpy as np"
      ],
      "execution_count": 1,
      "outputs": []
    },
    {
      "cell_type": "code",
      "metadata": {
        "id": "H_uLg3F1MXeH",
        "colab_type": "code",
        "colab": {}
      },
      "source": [
        "X = np.array([1, 2, 3, 4, 5, 6],dtype =np.float32)\n",
        "Y = np.array([1.5,3,4.5,6,7.5,9],dtype =np.float32)\n",
        "n_samples = X.shape[0]\n",
        "test = 20"
      ],
      "execution_count": 10,
      "outputs": []
    },
    {
      "cell_type": "code",
      "metadata": {
        "id": "yLL8ewQuMapv",
        "colab_type": "code",
        "colab": {
          "base_uri": "https://localhost:8080/",
          "height": 221
        },
        "outputId": "f55f8c30-f809-4cdf-8fa3-dad8fc633ea3"
      },
      "source": [
        "W = tf.Variable(0.5,shape=tf.TensorShape(None))\n",
        "epochs = 30\n",
        "lr = 0.01\n",
        "\n",
        "def forward(input):\n",
        "  return tf.multiply(input , W)\n",
        "\n",
        "def criterion(out, out_predit):\n",
        "  return tf.reduce_mean(tf.pow((out_predit - out),2))\n",
        "\n",
        "def gradiente(input, pred, output):\n",
        "  dosX = tf.Variable(2*input)\n",
        "  dosX = tf.reshape(dosX, [n_samples,1])\n",
        "  resta = pred - output\n",
        "  resta = tf.reshape(resta, [n_samples,1])\n",
        "  return tf.reduce_mean(tf.matmul(resta,tf.transpose(dosX)))\n",
        "\n",
        "for epoch in range(epochs):\n",
        "  # forward\n",
        "  pred = forward(X)\n",
        "  # loss = MSE\n",
        "  loss = criterion(Y,pred)\n",
        "  # aquí estan las operaciones para el gradiente\n",
        "  rm = gradiente(X, pred, Y)\n",
        "  # aquí actualizo el peso \"w\"\n",
        "  W = W - rm*lr\n",
        "  if (epoch+1) % 3== 0:\n",
        "    print(f'Epoch {epoch+1}/{epochs} : w = {W:.3f} , Loss = {loss:.8f}')\n",
        "\n",
        "print(f'\\nPrediction after training : f({test}) = {tf.multiply(test , W):.1f}')"
      ],
      "execution_count": 12,
      "outputs": [
        {
          "output_type": "stream",
          "text": [
            "Epoch 3/30 : w = 1.070 , Loss = 4.92808294\n",
            "Epoch 6/30 : w = 1.315 , Loss = 0.91276670\n",
            "Epoch 9/30 : w = 1.420 , Loss = 0.16906027\n",
            "Epoch 12/30 : w = 1.466 , Loss = 0.03131302\n",
            "Epoch 15/30 : w = 1.485 , Loss = 0.00579976\n",
            "Epoch 18/30 : w = 1.494 , Loss = 0.00107422\n",
            "Epoch 21/30 : w = 1.497 , Loss = 0.00019896\n",
            "Epoch 24/30 : w = 1.499 , Loss = 0.00003685\n",
            "Epoch 27/30 : w = 1.499 , Loss = 0.00000682\n",
            "Epoch 30/30 : w = 1.500 , Loss = 0.00000126\n",
            "\n",
            "Prediction after training : f(20) = 30.0\n"
          ],
          "name": "stdout"
        }
      ]
    }
  ]
}