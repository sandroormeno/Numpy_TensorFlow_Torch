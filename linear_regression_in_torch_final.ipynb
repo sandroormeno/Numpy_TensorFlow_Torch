{
  "nbformat": 4,
  "nbformat_minor": 0,
  "metadata": {
    "colab": {
      "name": "linear regression in torch -  final.ipynb",
      "provenance": [],
      "collapsed_sections": [],
      "authorship_tag": "ABX9TyMxFwzIeKvDVBnWyAhciq6/"
    },
    "kernelspec": {
      "name": "python3",
      "display_name": "Python 3"
    }
  },
  "cells": [
    {
      "cell_type": "code",
      "metadata": {
        "id": "9P3zZ7qHKIqa",
        "colab_type": "code",
        "colab": {
          "base_uri": "https://localhost:8080/",
          "height": 34
        },
        "outputId": "8b378bb0-7aea-4479-c937-510ef57a67ae"
      },
      "source": [
        "import torch \n",
        "torch.__version__"
      ],
      "execution_count": 15,
      "outputs": [
        {
          "output_type": "execute_result",
          "data": {
            "text/plain": [
              "'1.5.0+cu101'"
            ]
          },
          "metadata": {
            "tags": []
          },
          "execution_count": 15
        }
      ]
    },
    {
      "cell_type": "code",
      "metadata": {
        "id": "1SSBiiU4KZHO",
        "colab_type": "code",
        "colab": {
          "base_uri": "https://localhost:8080/",
          "height": 221
        },
        "outputId": "14dee7e7-c84d-4ed3-8001-5a02c14847e2"
      },
      "source": [
        "# f = 1.5 * x\n",
        "X = torch.tensor([1, 2, 3, 4, 5, 6], dtype=torch.float32)\n",
        "Y = torch.tensor([1.5,3,4.5,6,7.5,9], dtype=torch.float32)\n",
        "\n",
        "w = torch.tensor(0.0, dtype=torch.float32, requires_grad=True)\n",
        "\n",
        "test = torch.tensor(10,dtype=torch.float32)\n",
        "\n",
        "# model output\n",
        "def forward(x):\n",
        "    return w * x\n",
        "\n",
        "# loss = MSE\n",
        "def loss(y, y_pred):\n",
        "    return ((y_pred - y)**2).mean()\n",
        "\n",
        "\n",
        "# Training\n",
        "learning_rate = 0.01\n",
        "n_iters = 30\n",
        "\n",
        "for epoch in range(n_iters):\n",
        "    # predict = forward pass\n",
        "    y_pred = forward(X)\n",
        "\n",
        "    # loss\n",
        "    l = loss(Y, y_pred)\n",
        "\n",
        "    # calculate gradients = backward pass\n",
        "    l.backward()\n",
        "\n",
        "    # update weights\n",
        "    # w.data = w.data - learning_rate * w.grad\n",
        "    with torch.no_grad():\n",
        "        w -= learning_rate * w.grad\n",
        "    \n",
        "    # zero the gradients after updating\n",
        "    w.grad.zero_()\n",
        "\n",
        "    if (epoch+1) % 3 == 0:\n",
        "        print(f'Epoch {epoch+1}/{n_iters} : w = {w.item():.3f} , Loss = {l.item():.8f}')\n",
        "\n",
        "print(f'\\nPrediction after training: f({test:.0f}) = {forward(test).item():.2f}')\n"
      ],
      "execution_count": 16,
      "outputs": [
        {
          "output_type": "stream",
          "text": [
            "Epoch 3/30 : w = 0.993 , Loss = 8.03845882\n",
            "Epoch 6/30 : w = 1.329 , Loss = 0.91901594\n",
            "Epoch 9/30 : w = 1.442 , Loss = 0.10506856\n",
            "Epoch 12/30 : w = 1.480 , Loss = 0.01201214\n",
            "Epoch 15/30 : w = 1.493 , Loss = 0.00137330\n",
            "Epoch 18/30 : w = 1.498 , Loss = 0.00015700\n",
            "Epoch 21/30 : w = 1.499 , Loss = 0.00001795\n",
            "Epoch 24/30 : w = 1.500 , Loss = 0.00000205\n",
            "Epoch 27/30 : w = 1.500 , Loss = 0.00000023\n",
            "Epoch 30/30 : w = 1.500 , Loss = 0.00000003\n",
            "\n",
            "Prediction after training: f(10) = 15.00\n"
          ],
          "name": "stdout"
        }
      ]
    }
  ]
}